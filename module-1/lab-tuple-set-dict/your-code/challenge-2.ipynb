{
 "cells": [
  {
   "cell_type": "markdown",
   "metadata": {},
   "source": [
    "## Challenge 2: Sets\n",
    "\n",
    "There are a lot to learn about Python Sets and the information presented in the lesson is limited due to its length. To learn Python Sets in depth you are strongly encouraged to review the W3Schools tutorial on [Python Sets Examples and Methods](https://www.w3schools.com/python/python_sets.asp) before you work on this lab. Some difficult questions in this lab have their solutions in the W3Schools tutorial.\n",
    "\n",
    "#### First, import the Python `random` libary"
   ]
  },
  {
   "cell_type": "code",
   "execution_count": null,
   "metadata": {},
   "outputs": [],
   "source": [
    "import random"
   ]
  },
  {
   "cell_type": "markdown",
   "metadata": {},
   "source": [
    "#### In the cell below, create a list named `sample_list_1` with 80 random values. \n",
    "\n",
    "Requirements:\n",
    "\n",
    "* Each value is an integer falling between 0 and 100.\n",
    "* Each value in the list is unique.\n",
    "\n",
    "Print `sample_list_1` to review its values\n",
    "\n",
    "*Hint: use `random.sample` ([reference](https://docs.python.org/3/library/random.html#random.sample)).*"
   ]
  },
  {
   "cell_type": "code",
   "execution_count": 4,
   "metadata": {},
   "outputs": [
    {
     "name": "stdout",
     "output_type": "stream",
     "text": [
      "[58, 26, 91, 98, 40, 81, 8, 11, 29, 24, 48, 51, 4, 66, 53, 33, 73, 47, 59, 56, 77, 19, 9, 60, 93, 83, 69, 85, 3, 44, 20, 67, 16, 74, 96, 76, 42, 71, 61, 95, 65, 30, 37, 10, 41, 18, 72, 88, 35, 1, 28, 43, 36, 21, 97, 50, 55, 31, 80, 52, 27, 86, 2, 34, 92, 63, 38, 54, 90, 12, 17, 89, 62, 13, 79, 82, 84, 5, 14, 45]\n"
     ]
    }
   ],
   "source": [
    "# Your code here\n",
    "import random\n",
    "\n",
    "sample_list_1 = random.sample(range(100), 80)\n",
    "print(sample_list_1)"
   ]
  },
  {
   "cell_type": "markdown",
   "metadata": {},
   "source": [
    "#### Convert `sample_list_1` to a set called `set1`. Print the length of the set. Is its length still 80?"
   ]
  },
  {
   "cell_type": "code",
   "execution_count": 7,
   "metadata": {},
   "outputs": [
    {
     "name": "stdout",
     "output_type": "stream",
     "text": [
      "80\n"
     ]
    }
   ],
   "source": [
    "# Your code here\n",
    "import random\n",
    "\n",
    "sample_list_1 = random.sample(range(100), 80)\n",
    "set1 = set(sample_list_1)\n",
    "print(len(set1))"
   ]
  },
  {
   "cell_type": "markdown",
   "metadata": {},
   "source": [
    "#### Create another list named `sample_list_2` with 80 random values.\n",
    "\n",
    "Requirements:\n",
    "\n",
    "* Each value is an integer falling between 0 and 100.\n",
    "* The values in the list don't have to be unique.\n",
    "\n",
    "*Hint: Use a FOR loop.*"
   ]
  },
  {
   "cell_type": "code",
   "execution_count": 20,
   "metadata": {},
   "outputs": [
    {
     "name": "stdout",
     "output_type": "stream",
     "text": [
      "[56, 87, 88, 96, 13, 82, 34, 21, 52, 78, 30, 14, 64, 78, 43, 15, 3, 32, 79, 28, 38, 26, 64, 32, 32, 75, 57, 69, 38, 97, 85, 91, 35, 73, 48, 0, 55, 70, 23, 68, 34, 71, 34, 37, 93, 25, 45, 45, 78, 91, 56, 82, 81, 96, 64, 33, 61, 11, 9, 29, 53, 90, 91, 59, 92, 78, 94, 24, 99, 22, 4, 94, 60, 17, 55, 48, 77, 68, 89, 21]\n"
     ]
    }
   ],
   "source": [
    "# Your code here\n",
    "import random\n",
    "\n",
    "sample_list_1 = random.sample(range(100), 80)\n",
    "set1 = set(sample_list_1)\n",
    "\n",
    "# sample_list_2 = [i for i in range(80) random.random()*100] \n",
    "# intente hacerla en unalinea y me volví loko\n",
    "sample_list_2 = []\n",
    "for i in range(80):\n",
    "    sample_list_2.append(int(random.random()*100))\n",
    "\n",
    "print(sample_list_2)"
   ]
  },
  {
   "cell_type": "markdown",
   "metadata": {},
   "source": [
    "#### Convert `sample_list_2` to a set called `set2`. Print the length of the set. Is its length still 80?"
   ]
  },
  {
   "cell_type": "code",
   "execution_count": 24,
   "metadata": {},
   "outputs": [
    {
     "name": "stdout",
     "output_type": "stream",
     "text": [
      "57\n"
     ]
    }
   ],
   "source": [
    "# Your code here\n",
    "import random\n",
    "\n",
    "sample_list_1 = random.sample(range(100), 80)\n",
    "set1 = set(sample_list_1)\n",
    "\n",
    "# sample_list_2 = [i for i in range(80) random.random()*100] \n",
    "# intente hacerla en unalinea y me volví loko\n",
    "sample_list_2 = []\n",
    "for i in range(80):\n",
    "    sample_list_2.append(int(random.random()*100))\n",
    "\n",
    "set2 = set(sample_list_2)\n",
    "print(len(set2))"
   ]
  },
  {
   "cell_type": "markdown",
   "metadata": {},
   "source": [
    "#### Identify the elements present in `set1` but not in `set2`. Assign the elements to a new set named `set3`."
   ]
  },
  {
   "cell_type": "code",
   "execution_count": 32,
   "metadata": {},
   "outputs": [
    {
     "name": "stdout",
     "output_type": "stream",
     "text": [
      "{6, 7, 11, 15, 18, 20, 22, 36, 37, 39, 40, 41, 43, 44, 45, 47, 55, 61, 62, 64, 67, 68, 75, 78, 79, 80, 89, 90, 98}\n"
     ]
    }
   ],
   "source": [
    "# Your code here\n",
    "import random\n",
    "\n",
    "sample_list_1 = random.sample(range(100), 80)\n",
    "set1 = set(sample_list_1)\n",
    "\n",
    "sample_list_2 = []\n",
    "for i in range(80):\n",
    "    sample_list_2.append(int(random.random()*100))\n",
    "\n",
    "set2 = set(sample_list_2)\n",
    "\n",
    "set3 = set1 - set2\n",
    "print(set3)"
   ]
  },
  {
   "cell_type": "markdown",
   "metadata": {},
   "source": [
    "#### Identify the elements present in `set2` but not in `set1`. Assign the elements to a new set named `set4`."
   ]
  },
  {
   "cell_type": "code",
   "execution_count": 33,
   "metadata": {},
   "outputs": [
    {
     "name": "stdout",
     "output_type": "stream",
     "text": [
      "{0, 96, 97, 5, 6, 73, 46, 15, 50, 56, 57, 61}\n"
     ]
    }
   ],
   "source": [
    "# Your code here\n",
    "import random\n",
    "\n",
    "sample_list_1 = random.sample(range(100), 80)\n",
    "set1 = set(sample_list_1)\n",
    "\n",
    "sample_list_2 = []\n",
    "for i in range(80):\n",
    "    sample_list_2.append(int(random.random()*100))\n",
    "\n",
    "set2 = set(sample_list_2)\n",
    "\n",
    "set3 = set1 - set2\n",
    "\n",
    "set4 = set2.difference(set1)\n",
    "print(set4)"
   ]
  },
  {
   "cell_type": "markdown",
   "metadata": {},
   "source": [
    "#### Now Identify the elements shared between `set1` and `set2`. Assign the elements to a new set named `set5`."
   ]
  },
  {
   "cell_type": "code",
   "execution_count": 35,
   "metadata": {},
   "outputs": [
    {
     "name": "stdout",
     "output_type": "stream",
     "text": [
      "{0, 1, 2, 4, 6, 7, 8, 9, 14, 16, 17, 18, 20, 21, 24, 25, 29, 30, 31, 34, 36, 39, 40, 41, 42, 47, 48, 49, 50, 52, 56, 62, 63, 64, 69, 72, 78, 79, 80, 87, 91, 94, 95, 97, 98, 99}\n"
     ]
    }
   ],
   "source": [
    "# Your code here\n",
    "import random\n",
    "\n",
    "sample_list_1 = random.sample(range(100), 80)\n",
    "set1 = set(sample_list_1)\n",
    "\n",
    "sample_list_2 = []\n",
    "for i in range(80):\n",
    "    sample_list_2.append(int(random.random()*100))\n",
    "\n",
    "set2 = set(sample_list_2)\n",
    "\n",
    "set3 = set1 - set2\n",
    "\n",
    "set4 = set2.difference(set1)\n",
    "\n",
    "set5 = set1 & set2\n",
    "print(set5)"
   ]
  },
  {
   "cell_type": "markdown",
   "metadata": {},
   "source": [
    "#### What is the relationship among the following values:\n",
    "\n",
    "* len(set1)\n",
    "* len(set2)\n",
    "* len(set3)\n",
    "* len(set4)\n",
    "* len(set5)\n",
    "\n",
    "Use a math formular to represent that relationship. Test your formular with Python code."
   ]
  },
  {
   "cell_type": "code",
   "execution_count": 92,
   "metadata": {},
   "outputs": [
    {
     "name": "stdout",
     "output_type": "stream",
     "text": [
      "set1 is greater than set2\n",
      "set1 is greater than set3\n",
      "set1 is greater than set4\n",
      "set2 is greater than set3\n",
      "set2 is greater than set4\n",
      "set3 is greater than set4\n",
      "set5 is greater than set3\n",
      "set5 is greater than set4\n",
      "[80, 59, 35, 14, 45]\n"
     ]
    }
   ],
   "source": [
    "# Your code here\n",
    "import random\n",
    "\n",
    "sample_list_1 = random.sample(range(100), 80)\n",
    "\n",
    "sample_list_2 = []\n",
    "for i in range(80):\n",
    "    sample_list_2.append(int(random.random()*100))\n",
    "\n",
    "\n",
    "set1 = set(sample_list_1)    # set from list with no reps\n",
    "    \n",
    "set2 = set(sample_list_2)    # set from list with reps\n",
    "\n",
    "set3 = set1 - set2           # in 1 but not in 2\n",
    "\n",
    "set4 = set2.difference(set1) # in 2 but not in 1\n",
    "\n",
    "set5 = set1 & set2           # in both of them\n",
    "\n",
    "len1 = len(set1)\n",
    "len2 = len(set2)\n",
    "len3 = len(set3)\n",
    "len4 = len(set4)\n",
    "len5 = len(set5)\n",
    "lengths = [len1, len2, len3, len4, len5]\n",
    "\n",
    "for l in lengths:\n",
    "    for rest in range(len(lengths)-1):\n",
    "        if l > lengths[rest]:\n",
    "            print(\"set\"+str(lengths.index(l)+1) + \" is greater than \"+ \"set\"+str(rest+1))\n",
    "            \n",
    "#The first set is always greater than the rest.\n",
    "#The second is always greater than the rest, except for the set from a non-rep list\n",
    "#Seems like there are more elements present in the first set that aren't on the second than the other way around\n",
    "#There are more elements present in intersection than in any of the differences\n",
    "\n",
    "\n",
    "\n",
    "\n",
    "\n",
    "\n",
    "\n",
    "\n",
    "# STOP READING NOW!\n",
    "\n",
    "# from statistics import mean, pstdev\n",
    "    \n",
    "\n",
    "\n",
    "# sample = []\n",
    "\n",
    "# IT'S YOUR LAST CHANCE\n",
    "\n",
    "# for i in range(100):\n",
    "#    subSample= []\n",
    "#    \n",
    "#    subSample.append(set(random.sample(range(100), 80))) #add to list set from no rep\n",
    "#    subSample.append(set())                              #add empty set\n",
    "#    for x in range(80):                                  #fill empty set with sets from reps\n",
    "#        subSample[1].add(int(random.random()*100))\n",
    "#        \n",
    "#    subSample[1] = set(subSample[1])\n",
    "#    subSample.append(subSample[0]-subSample[1])                #add other variations\n",
    "#    subSample.append(subSample[1]-subSample[0])\n",
    "#    subSample.append(subSample[0] & subSample[1])\n",
    "#    sample.append(subSample)\n",
    "\n",
    "\n",
    "#    set1 = set(sample_list_1)    # set from list with no reps\n",
    "\n",
    "#    set2 = set(sample_list_2)    # set from list with reps\n",
    "\n",
    "#    set3 = set1 - set2           # in 1 but not in 2\n",
    "\n",
    "#    set4 = set2.difference(set1) # in 2 but not in 1\n",
    "\n",
    "#    set5 = set1 & set2           # in both of them\n",
    "\n",
    "\n",
    "# BITHC\n",
    "#sampleLenghts = list(map(lambda subS: list(map(lambda l: len(l), subS)), sample)) #lenghts of population\n",
    "\n",
    "\n",
    "#for sampleLen in sampleLenghts:\n",
    "#    print(mean(sampleLen[0]))"
   ]
  },
  {
   "cell_type": "markdown",
   "metadata": {},
   "source": [
    "#### Create an empty set called `set6`."
   ]
  },
  {
   "cell_type": "code",
   "execution_count": 50,
   "metadata": {},
   "outputs": [],
   "source": [
    "# Your code here\n",
    "set6 = set()"
   ]
  },
  {
   "cell_type": "markdown",
   "metadata": {},
   "source": [
    "#### Add `set3` and `set5` to `set6` using the Python Set `update` method."
   ]
  },
  {
   "cell_type": "code",
   "execution_count": 93,
   "metadata": {},
   "outputs": [
    {
     "name": "stdout",
     "output_type": "stream",
     "text": [
      "{0, 1, 2, 3, 4, 5, 6, 7, 8, 9, 10, 12, 14, 15, 16, 17, 18, 19, 21, 22, 23, 24, 25, 27, 28, 29, 31, 32, 34, 35, 38, 39, 40, 41, 42, 43, 44, 45, 46, 47, 48, 51, 52, 54, 56, 57, 58, 59, 61, 62, 63, 64, 65, 66, 67, 68, 69, 70, 71, 73, 75, 76, 80, 81, 82, 83, 84, 85, 86, 87, 88, 91, 92, 93, 94, 95, 96, 97, 98, 99}\n"
     ]
    }
   ],
   "source": [
    "# Your code here\n",
    "import random\n",
    "\n",
    "sample_list_1 = random.sample(range(100), 80)\n",
    "set1 = set(sample_list_1)\n",
    "\n",
    "sample_list_2 = []\n",
    "for i in range(80):\n",
    "    sample_list_2.append(int(random.random()*100))\n",
    "\n",
    "set2 = set(sample_list_2)\n",
    "\n",
    "set3 = set1 - set2\n",
    "\n",
    "set4 = set2.difference(set1)\n",
    "\n",
    "set5 = set1 & set2\n",
    "\n",
    "set6 = set()\n",
    "\n",
    "set6.update(set3, set5)\n",
    "print(set6)"
   ]
  },
  {
   "cell_type": "markdown",
   "metadata": {},
   "source": [
    "#### Check if `set1` and `set6` are equal."
   ]
  },
  {
   "cell_type": "code",
   "execution_count": 94,
   "metadata": {},
   "outputs": [
    {
     "name": "stdout",
     "output_type": "stream",
     "text": [
      "True\n"
     ]
    }
   ],
   "source": [
    "# Your code here\n",
    "# Your code here\n",
    "import random\n",
    "\n",
    "sample_list_1 = random.sample(range(100), 80)\n",
    "set1 = set(sample_list_1)\n",
    "\n",
    "sample_list_2 = []\n",
    "for i in range(80):\n",
    "    sample_list_2.append(int(random.random()*100))\n",
    "\n",
    "set2 = set(sample_list_2)\n",
    "\n",
    "set3 = set1 - set2\n",
    "\n",
    "set4 = set2.difference(set1)\n",
    "\n",
    "set5 = set1 & set2\n",
    "\n",
    "set6 = set()\n",
    "\n",
    "set6.update(set3, set5)\n",
    "print(set6==set1)"
   ]
  },
  {
   "cell_type": "markdown",
   "metadata": {},
   "source": [
    "#### Check if `set1` contains `set2` using the Python Set `issubset` method. Then check if `set1` contains `set3`.*"
   ]
  },
  {
   "cell_type": "code",
   "execution_count": 96,
   "metadata": {},
   "outputs": [
    {
     "name": "stdout",
     "output_type": "stream",
     "text": [
      "False\n",
      "True\n"
     ]
    }
   ],
   "source": [
    "# Your code here\n",
    "import random\n",
    "\n",
    "sample_list_1 = random.sample(range(100), 80)\n",
    "set1 = set(sample_list_1)\n",
    "\n",
    "sample_list_2 = []\n",
    "for i in range(80):\n",
    "    sample_list_2.append(int(random.random()*100))\n",
    "\n",
    "set2 = set(sample_list_2)\n",
    "\n",
    "set3 = set1 - set2\n",
    "\n",
    "set4 = set2.difference(set1)\n",
    "\n",
    "set5 = set1 & set2\n",
    "\n",
    "set6 = set()\n",
    "\n",
    "set6.update(set3, set5)\n",
    "print(set2.issubset(set1))\n",
    "print(set3.issubset(set1))"
   ]
  },
  {
   "cell_type": "markdown",
   "metadata": {},
   "source": [
    "#### Using the Python Set `union` method, aggregate `set3`, `set4`, and `set5`. Then aggregate `set1` and `set2`. \n",
    "\n",
    "#### Check if the aggregated values are equal."
   ]
  },
  {
   "cell_type": "code",
   "execution_count": 97,
   "metadata": {},
   "outputs": [
    {
     "name": "stdout",
     "output_type": "stream",
     "text": [
      "True\n"
     ]
    }
   ],
   "source": [
    "# Your code here\n",
    "import random\n",
    "\n",
    "sample_list_1 = random.sample(range(100), 80)\n",
    "set1 = set(sample_list_1)\n",
    "\n",
    "sample_list_2 = []\n",
    "for i in range(80):\n",
    "    sample_list_2.append(int(random.random()*100))\n",
    "\n",
    "set2 = set(sample_list_2)\n",
    "\n",
    "set3 = set1 - set2\n",
    "\n",
    "set4 = set2.difference(set1)\n",
    "\n",
    "set5 = set1 & set2\n",
    "\n",
    "set6 = set()\n",
    "\n",
    "set6.update(set3, set5)\n",
    "\n",
    "print((set1 | set2) == (set3 | set4 | set5) )\n",
    "#Reniego, soy un firme defensor de que el todo es superior a la suma de sus partes."
   ]
  },
  {
   "cell_type": "markdown",
   "metadata": {},
   "source": [
    "#### Using the `pop` method, remove the first element from `set1`."
   ]
  },
  {
   "cell_type": "code",
   "execution_count": 99,
   "metadata": {},
   "outputs": [
    {
     "name": "stdout",
     "output_type": "stream",
     "text": [
      "79\n"
     ]
    }
   ],
   "source": [
    "# Your code here\n",
    "#no se supone que un set era unordered? puedo borrar solo el primero?\n",
    "import random\n",
    "\n",
    "sample_list_1 = random.sample(range(100), 80)\n",
    "set1 = set(sample_list_1)\n",
    "list1 = list(set1)\n",
    "list1.pop(0)\n",
    "set1 = set(list1)\n",
    "print(len(set1))\n"
   ]
  },
  {
   "cell_type": "markdown",
   "metadata": {},
   "source": [
    "#### Remove every element in the following list from `set1` if they are present in the set. Print the remaining elements.\n",
    "\n",
    "```\n",
    "list_to_remove = [1, 9, 11, 19, 21, 29, 31, 39, 41, 49, 51, 59, 61, 69, 71, 79, 81, 89, 91, 99]\n",
    "```"
   ]
  },
  {
   "cell_type": "code",
   "execution_count": 101,
   "metadata": {},
   "outputs": [
    {
     "name": "stdout",
     "output_type": "stream",
     "text": [
      "{1, 59, 71}\n"
     ]
    }
   ],
   "source": [
    "# Your code here\n",
    "import random\n",
    "\n",
    "list_to_remove = [1, 9, 11, 19, 21, 29, 31, 39, 41, 49, 51, 59, 61, 69, 71, 79, 81, 89, 91, 99]\n",
    "sample_list_1 = random.sample(range(100), 80)\n",
    "set1 = set(sample_list_1)\n",
    "list1 = list(set1)\n",
    "list1.pop(0)\n",
    "set1 = set(list1)\n",
    "set_to_remove = set(list_to_remove)\n",
    "\n",
    "toDelete = set_to_remove - set1\n",
    "\n",
    "print(toDelete)"
   ]
  },
  {
   "cell_type": "code",
   "execution_count": null,
   "metadata": {},
   "outputs": [],
   "source": []
  }
 ],
 "metadata": {
  "kernelspec": {
   "display_name": "Python 3",
   "language": "python",
   "name": "python3"
  },
  "language_info": {
   "codemirror_mode": {
    "name": "ipython",
    "version": 3
   },
   "file_extension": ".py",
   "mimetype": "text/x-python",
   "name": "python",
   "nbconvert_exporter": "python",
   "pygments_lexer": "ipython3",
   "version": "3.6.8"
  }
 },
 "nbformat": 4,
 "nbformat_minor": 2
}
